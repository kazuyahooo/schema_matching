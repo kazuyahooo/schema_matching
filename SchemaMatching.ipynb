{
 "cells": [
  {
   "cell_type": "code",
   "execution_count": 115,
   "metadata": {},
   "outputs": [
    {
     "name": "stdout",
     "output_type": "stream",
     "text": [
      "['建物名稱', '地址', '總價', '格局', '建坪', '單價', '主+陽', '屋齡', '類型', '樓層', '邊間/暗房', '建物朝向', '警衛管理', '管理費', 'url']\n",
      "['名稱', '價格', '每坪單價', '總坪數', '屋齡', '車位', '格局', '類型', '電梯', '管理費', '地址', '樓層', '座向', 'url']\n",
      "['管理費', '樓層', '格局', 'url', '屋齡', '類型', '地址']\n",
      "\n",
      "['電影(中)', '電影(英)', '最快可訂票場次', '剩餘座位']\n",
      "['電影(中)', '電影(英)', '上映日期', '片長', '發行公司', '評分']\n",
      "['電影(英)', '電影(中)']\n",
      "\n",
      "['subtopic', '標題', '作者', '日期']\n",
      "['title', 'author', 'board', 'date']\n",
      "[]\n",
      "\n",
      "['Name', 'Location', 'Price', 'Category', 'In Stock']\n",
      "['產品名稱', '產地', '價錢', '庫存']\n",
      "[]\n",
      "\n",
      "['新聞來源', '文章標題', '文章作者', '發布日期']\n",
      "['來源', '標題', '作者', '日期', '網址']\n",
      "[]\n",
      "\n",
      "['col1', 'col2', 'col3', 'col4', 'col5']\n",
      "['author', 'tag', 'link', 'media_thumbnail', 'title', 'published_time']\n",
      "[]\n",
      "\n",
      "['color', 'sn', 'text', 'time', 'userid', 'title', '', '', '', '', '', '', '', '', '', '', '', '', '', '', '', '', '', '', '', '', '', '', '', '', '', '', '', '', '', '', '', '', '', '', '', '', '', '', '', '', '', '', '', '', '', '', '']\n",
      "['num', 'time', 'mode', 'color', 'id', 'sn', 'text']\n",
      "['color', 'text', 'time', 'sn']\n",
      "\n",
      "['标题', '文章内容', '文章链接', '时间']\n",
      "['标题', '摘要', '作者', '链接', '发表时间', '', '', '']\n",
      "['标题']\n",
      "\n",
      "['url', 'title', 'price']\n",
      "['col1', 'col2', 'col3', 'col4']\n",
      "[]\n",
      "\n",
      "['title', 'introduction', 'link', 'price', 'booking_date', 'rating_star', 'rating_count', 'country', 'cat_key', '', '']\n",
      "['title', 'location_title', 'deep_link', 'review_count', 'review_join', 'review_star', 'sell_price', 'start_time', 'what_we_love']\n",
      "['title']\n",
      "\n",
      "['id', 'url', 'img', 'name', 'description', 'information', 'price']\n",
      "['url', 'img_url', 'name', 'info', 'price']\n",
      "['price', 'name', 'url']\n",
      "\n",
      "['品牌', '商品名稱', '6個月評分', '價格', '商品說明']\n",
      "['商品', '品牌', '商品簡述', '評分', '價錢']\n",
      "['品牌']\n",
      "\n",
      "['article_name', 'article_url', 'article_time', 'article_contet']\n",
      "['title', 'url', 'content', 'author', 'time']\n",
      "[]\n",
      "\n",
      "['url', 'article_title', 'article_id', 'author', 'view_number', 'score', 'summary']\n",
      "['article_id', 'article_title', 'author', 'hot', 'like', 'summary']\n",
      "['author', 'article_id', 'summary', 'article_title']\n",
      "\n",
      "['url', 'article_title', 'date', 'content']\n",
      "['url', 'article_id', 'article_title', 'author', 'date', 'content']\n",
      "['content', 'date', 'article_title', 'url']\n",
      "\n"
     ]
    }
   ],
   "source": [
    "import os,csv\n",
    "file_path = './Training Data/pair_'\n",
    "test = dict()\n",
    "result =  dict()\n",
    "for num in range(1, 16):\n",
    "    columns = list() # 抓取兩個table的column\n",
    "    test[num] = list()\n",
    "    result[num] = list()\n",
    "    for i in ['1','2']:\n",
    "        with open(file_path + str(num) + '/Table' + i + '.csv', encoding='utf-8-sig') as f:\n",
    "            rows = csv.reader(f)\n",
    "            for row in rows:\n",
    "                columns.append(row)\n",
    "                print(row)\n",
    "                break\n",
    "    same = list(set(columns[0]).intersection(columns[1]))\n",
    "    result[num].extend(['<'+word+', '+word+'>' for word in same])\n",
    "    print(same)\n",
    "    print('')\n",
    "    test[num].append([elm for elm in columns[0] if elm not in same + ['']])\n",
    "    test[num].append([elm for elm in columns[1] if elm not in same + ['']])"
   ]
  },
  {
   "cell_type": "code",
   "execution_count": 116,
   "metadata": {},
   "outputs": [
    {
     "data": {
      "text/plain": [
       "{1: [['建物名稱', '總價', '建坪', '單價', '主+陽', '邊間/暗房', '建物朝向', '警衛管理'],\n",
       "  ['名稱', '價格', '每坪單價', '總坪數', '車位', '電梯', '座向']],\n",
       " 2: [['最快可訂票場次', '剩餘座位'], ['上映日期', '片長', '發行公司', '評分']],\n",
       " 3: [['subtopic', '標題', '作者', '日期'], ['title', 'author', 'board', 'date']],\n",
       " 4: [['Name', 'Location', 'Price', 'Category', 'In Stock'],\n",
       "  ['產品名稱', '產地', '價錢', '庫存']],\n",
       " 5: [['新聞來源', '文章標題', '文章作者', '發布日期'], ['來源', '標題', '作者', '日期', '網址']],\n",
       " 6: [['col1', 'col2', 'col3', 'col4', 'col5'],\n",
       "  ['author', 'tag', 'link', 'media_thumbnail', 'title', 'published_time']],\n",
       " 7: [['userid', 'title'], ['num', 'mode', 'id']],\n",
       " 8: [['文章内容', '文章链接', '时间'], ['摘要', '作者', '链接', '发表时间']],\n",
       " 9: [['url', 'title', 'price'], ['col1', 'col2', 'col3', 'col4']],\n",
       " 10: [['introduction',\n",
       "   'link',\n",
       "   'price',\n",
       "   'booking_date',\n",
       "   'rating_star',\n",
       "   'rating_count',\n",
       "   'country',\n",
       "   'cat_key'],\n",
       "  ['location_title',\n",
       "   'deep_link',\n",
       "   'review_count',\n",
       "   'review_join',\n",
       "   'review_star',\n",
       "   'sell_price',\n",
       "   'start_time',\n",
       "   'what_we_love']],\n",
       " 11: [['id', 'img', 'description', 'information'], ['img_url', 'info']],\n",
       " 12: [['商品名稱', '6個月評分', '價格', '商品說明'], ['商品', '商品簡述', '評分', '價錢']],\n",
       " 13: [['article_name', 'article_url', 'article_time', 'article_contet'],\n",
       "  ['title', 'url', 'content', 'author', 'time']],\n",
       " 14: [['url', 'view_number', 'score'], ['hot', 'like']],\n",
       " 15: [[], ['article_id', 'author']]}"
      ]
     },
     "execution_count": 116,
     "metadata": {},
     "output_type": "execute_result"
    }
   ],
   "source": [
    "test"
   ]
  },
  {
   "cell_type": "code",
   "execution_count": 117,
   "metadata": {},
   "outputs": [
    {
     "data": {
      "text/plain": [
       "{1: ['<管理費, 管理費>',\n",
       "  '<樓層, 樓層>',\n",
       "  '<格局, 格局>',\n",
       "  '<url, url>',\n",
       "  '<屋齡, 屋齡>',\n",
       "  '<類型, 類型>',\n",
       "  '<地址, 地址>'],\n",
       " 2: ['<電影(英), 電影(英)>', '<電影(中), 電影(中)>'],\n",
       " 3: [],\n",
       " 4: [],\n",
       " 5: [],\n",
       " 6: [],\n",
       " 7: ['<color, color>', '<text, text>', '<time, time>', '<sn, sn>'],\n",
       " 8: ['<标题, 标题>'],\n",
       " 9: [],\n",
       " 10: ['<title, title>'],\n",
       " 11: ['<price, price>', '<name, name>', '<url, url>'],\n",
       " 12: ['<品牌, 品牌>'],\n",
       " 13: [],\n",
       " 14: ['<author, author>',\n",
       "  '<article_id, article_id>',\n",
       "  '<summary, summary>',\n",
       "  '<article_title, article_title>'],\n",
       " 15: ['<content, content>',\n",
       "  '<date, date>',\n",
       "  '<article_title, article_title>',\n",
       "  '<url, url>']}"
      ]
     },
     "execution_count": 117,
     "metadata": {},
     "output_type": "execute_result"
    }
   ],
   "source": [
    "result"
   ]
  },
  {
   "cell_type": "code",
   "execution_count": 118,
   "metadata": {},
   "outputs": [
    {
     "name": "stdout",
     "output_type": "stream",
     "text": [
      "defaultdict(<class 'list'>, {1: ['<建物名稱, 名稱>', '<地址, 地址>', '<總價, 價格>', '<單價, 每坪單價>', '<格局, 格局>', '<建坪, 總坪數>', '<屋齡, 屋齡>', '<類型, 類型>', '<樓層, 樓層>', '<建物朝向, 座向>', '<管理費, 管理費>', '<url, url>'], 2: ['<電影(中), 電影(中)>', '<電影(英), 電影(英)>', '<最快可訂票場次, 上映日期>'], 3: ['<subtopic, board>', '<標題, title>', '<作者, author>', '<日期, date>'], 4: ['<Name, 產品名稱>', '<Location, 產地>', '<Price, 價錢>', '<In Stock, 庫存>'], 5: ['<新聞來源, 來源>', '<文章標題, 標題>', '<文章作者, 作者>', '<發布日期, 日期>'], 6: ['<col1, tag>', '<col2, link>', '<col3, media_thumbnail>', '<col4, title>', '<col5, publish_time>'], 7: ['<color, color>', '<text, text>', '<sn, sn>', '<time, time>', '<userid, id>'], 8: ['<标题, 标题>', '<文章内容, 摘要>', '<文章链接, 链接>', '<时间, 发表时间>'], 9: ['<url, col1>', '<title, col2>', '>price, col4>'], 10: ['<title, title>', '<introduction, what_we_love>', '<link, deep_link>', '<price, sell_price>', '<booking_date, start_time>', '<rating_star, review_star>', '<rating_count, review_count>', '<country, location_title>'], 11: ['<url, url>', '<img_url, img>', '<name, name>', '<information, info>', '<price, price>'], 12: ['<品牌, 品牌>', '<商品名稱, 商品>', '<6個月評分, 評分>', '<價格, 價錢>', '<商品說明, 商品簡述>'], 13: ['<article_name, title>', '<article_url, url>', '<article_contet, content>', '<article_time, time>'], 14: ['<article_title, article_title>', '<article_id, article_id>', '<author, author>', '<view_number, hot>', '<summary, summary>'], 15: ['<url, url>', '<article_title, article_title>', '<date, date>', '<content, content>']})\n"
     ]
    }
   ],
   "source": [
    "import csv\n",
    "from collections import defaultdict\n",
    "ans = defaultdict(list)\n",
    "for i in range(1,16):\n",
    "    with open(file_path + str(i) + '/mapping.txt', encoding='utf-8-sig') as f:\n",
    "        for row in f:\n",
    "            ans[i].append(row.strip('\\n'))\n",
    "print(ans)"
   ]
  },
  {
   "cell_type": "code",
   "execution_count": 119,
   "metadata": {},
   "outputs": [
    {
     "name": "stdout",
     "output_type": "stream",
     "text": [
      "[0.8156244435429086, '建物名稱', '名稱']\n",
      "[0.8211662520147652, '總價', '價格']\n",
      "[0.8185033702358471, '單價', '價格']\n"
     ]
    },
    {
     "name": "stderr",
     "output_type": "stream",
     "text": [
      "C:\\Users\\Kazuyahoo\\AppData\\Local\\Temp\\ipykernel_36232\\1090598074.py:29: UserWarning: [W008] Evaluating Doc.similarity based on empty vectors.\n",
      "  if elm1.similarity(elm2) > max_cosine:\n",
      "C:\\Users\\Kazuyahoo\\AppData\\Local\\Temp\\ipykernel_36232\\1090598074.py:30: UserWarning: [W008] Evaluating Doc.similarity based on empty vectors.\n",
      "  max_cosine = elm1.similarity(elm2)\n",
      "C:\\Users\\Kazuyahoo\\AppData\\Local\\Temp\\ipykernel_36232\\1090598074.py:32: UserWarning: [W008] Evaluating Doc.similarity based on empty vectors.\n",
      "  temp2.append(elm1.similarity(elm2))\n"
     ]
    },
    {
     "name": "stdout",
     "output_type": "stream",
     "text": [
      "\n",
      "\n",
      "[1.0, '標題', 'title']\n",
      "[1.0, '作者', 'author']\n",
      "[1.0, '日期', 'date']\n",
      "\n",
      "[0.8027764285337987, 'Name', '產品名稱']\n",
      "[1.0, 'Price', '價錢']\n",
      "[0.9999999907243265, 'In Stock', '庫存']\n",
      "\n",
      "[0.8321394108085185, '新聞來源', '來源']\n",
      "[0.8454818607666407, '文章標題', '標題']\n",
      "[0.894890631975146, '文章作者', '作者']\n",
      "[0.8473492634669297, '發布日期', '日期']\n",
      "\n"
     ]
    },
    {
     "name": "stderr",
     "output_type": "stream",
     "text": [
      "C:\\Users\\Kazuyahoo\\AppData\\Local\\Temp\\ipykernel_36232\\1090598074.py:29: UserWarning: [W008] Evaluating Doc.similarity based on empty vectors.\n",
      "  if elm1.similarity(elm2) > max_cosine:\n",
      "C:\\Users\\Kazuyahoo\\AppData\\Local\\Temp\\ipykernel_36232\\1090598074.py:30: UserWarning: [W008] Evaluating Doc.similarity based on empty vectors.\n",
      "  max_cosine = elm1.similarity(elm2)\n",
      "C:\\Users\\Kazuyahoo\\AppData\\Local\\Temp\\ipykernel_36232\\1090598074.py:32: UserWarning: [W008] Evaluating Doc.similarity based on empty vectors.\n",
      "  temp2.append(elm1.similarity(elm2))\n"
     ]
    },
    {
     "name": "stdout",
     "output_type": "stream",
     "text": [
      "\n",
      "\n",
      "[0.8725500306531471, '文章链接', '链接']\n",
      "[0.7444886350125187, '时间', '发表时间']\n",
      "\n"
     ]
    },
    {
     "name": "stderr",
     "output_type": "stream",
     "text": [
      "C:\\Users\\Kazuyahoo\\AppData\\Local\\Temp\\ipykernel_36232\\1090598074.py:29: UserWarning: [W008] Evaluating Doc.similarity based on empty vectors.\n",
      "  if elm1.similarity(elm2) > max_cosine:\n",
      "C:\\Users\\Kazuyahoo\\AppData\\Local\\Temp\\ipykernel_36232\\1090598074.py:32: UserWarning: [W008] Evaluating Doc.similarity based on empty vectors.\n",
      "  temp2.append(elm1.similarity(elm2))\n"
     ]
    },
    {
     "name": "stdout",
     "output_type": "stream",
     "text": [
      "\n",
      "[0.7180345943910086, 'link', 'deep_link']\n",
      "[0.901053490964388, 'price', 'sell_price']\n",
      "[0.7997573226545864, 'rating_star', 'review_star']\n",
      "[0.7566085368620075, 'rating_count', 'review_count']\n",
      "\n",
      "[0.8627569212984953, 'img', 'img_url']\n",
      "[0.7201064745570647, 'information', 'info']\n",
      "\n",
      "[0.9999999630095358, '價格', '價錢']\n",
      "[0.7695497712125731, '商品說明', '商品簡述']\n",
      "\n",
      "[0.827747962481347, 'article_url', 'url']\n",
      "[0.7737551205544415, 'article_time', 'time']\n",
      "\n",
      "\n",
      "\n"
     ]
    }
   ],
   "source": [
    "#將中文轉成英文比對embedding相似度 高於0.7的當作一樣\n",
    "import pandas as pd\n",
    "import translators as ts\n",
    "from collections import defaultdict\n",
    "\n",
    "tables = ['/Table1.csv', '/Table2.csv']\n",
    "nlp = spacy.load(\"en_core_web_lg\")\n",
    "nlp_ch = spacy.load(\"zh_core_web_lg\")\n",
    "\n",
    "for i in range(1,16):\n",
    "#for i in range(1,2):\n",
    "    table1 = pd.read_csv(file_path + str(i) + tables[0],low_memory=False)\n",
    "    table2 = pd.read_csv(file_path + str(i) + tables[1],low_memory=False)\n",
    "    table1 = table1[test[i][0]]\n",
    "    table2 = table2[test[i][1]]\n",
    "    trans_tab1 = [ts.google(j).replace('_',' ') for j in table1.columns]\n",
    "    trans_tab2 = [ts.google(j).replace('_',' ') for j in table2.columns]\n",
    "    # trans_tab1 = table1.columns\n",
    "    # trans_tab2 = table2.columns\n",
    "    mydict = defaultdict(list)\n",
    "    simatrix = [list(table2.columns)]\n",
    "    for idx1, elm1 in enumerate(trans_tab1):\n",
    "        elm1 = nlp(elm1)\n",
    "        max_cosine = -1\n",
    "        # temp = []\n",
    "        temp2 = []\n",
    "        for idx2, elm2 in enumerate(trans_tab2):\n",
    "            elm2 = nlp(elm2)\n",
    "            if elm1.similarity(elm2) > max_cosine:\n",
    "                max_cosine = elm1.similarity(elm2)\n",
    "                temp = [max_cosine, test[i][0][idx1], test[i][1][idx2]]\n",
    "            temp2.append(elm1.similarity(elm2))\n",
    "        simatrix.append(temp2)\n",
    "        if temp[0] >= 0.7:\n",
    "            mydict[temp[2]].append((temp[1], temp[0]))\n",
    "            print(temp)\n",
    "    #print(trans_tab1)\n",
    "    #print(trans_tab2)\n",
    "    #print(simatrix)\n",
    "    for key, val in mydict.items():\n",
    "        if len(val) >= 2:\n",
    "            val = sorted(val, key = lambda x: x[1], reverse = True)\n",
    "        result[i].append('<'+val[0][0]+', '+key+'>')\n",
    "        # 刪除此階段配對好的值\n",
    "        test[i][0].remove(val[0][0])\n",
    "        test[i][1].remove(key)\n",
    "    print('')"
   ]
  },
  {
   "cell_type": "code",
   "execution_count": 124,
   "metadata": {},
   "outputs": [
    {
     "name": "stdout",
     "output_type": "stream",
     "text": [
      "[('建坪', '.坪'), ('單價', '.萬/坪'), ('主+陽', '.坪'), ('邊間/暗房', '否/否'), ('建物朝向', '北'), ('警衛管理', '無')] [('每坪單價', '約.萬/坪'), ('總坪數', '約.坪'), ('車位', '－'), ('電梯', '無'), ('座向', '暫未調查')]\n",
      "defaultdict(<class 'list'>, {'總坪數': ['建坪', '主+陽'], '每坪單價': ['單價'], '電梯': ['警衛管理']})\n"
     ]
    }
   ],
   "source": [
    "# 比較欄位內容\n",
    "from collections import Counter, defaultdict\n",
    "import pandas as pd\n",
    "import translators as ts\n",
    "import re, difflib\n",
    "\n",
    "tables = ['/Table1.csv', '/Table2.csv']\n",
    "nlp = spacy.load(\"en_core_web_lg\")\n",
    "nlp_ch = spacy.load(\"zh_core_web_lg\")\n",
    "clear_col = ['Picture', 'URL', 'Date']\n",
    "for i in range(1,2):\n",
    "#for i in range(6,7):\n",
    "    table1 = pd.read_csv(file_path + str(i) + tables[0],low_memory=False)\n",
    "    table2 = pd.read_csv(file_path + str(i) + tables[1],low_memory=False)\n",
    "    table1 = table1[test[i][0]]\n",
    "    table2 = table2[test[i][1]]\n",
    "    table1.dropna(how = 'all', inplace = True) # 清除整條row為空值的測資\n",
    "    table2.dropna(how = 'all', inplace = True) # 清除整條row為空值的測資\n",
    "    temp1 = list()\n",
    "    temp2 = list()\n",
    "    table = [table1, table2]\n",
    "    for num in range(0,2):\n",
    "        for column in table[num].columns:\n",
    "            temp3 = Counter()\n",
    "            fixed_pattern = Counter()\n",
    "            for j in table[num][column][:10]:\n",
    "                # if type(j) == str: \n",
    "                #　print(j)\n",
    "                if pd.isna(j) : continue\n",
    "                j = str(j) if type(j) != str else j\n",
    "                pic = ['.jpg', '.jpeg', '.png', '.gif']\n",
    "                if j[-4:] in pic:\n",
    "                    j = 'Picture'\n",
    "                    break\n",
    "                if j.startswith('http://') or j.startswith('https://'):\n",
    "                    j = \"URL\"\n",
    "                    break\n",
    "                try:\n",
    "                    pd.to_datetime(j)\n",
    "                    j = \"Date\"\n",
    "                    break\n",
    "                except:\n",
    "                    pass\n",
    "                trans = ts.google(j)\n",
    "                rule = re.compile(r'[^,\\s\\d]*')\n",
    "                res = ''.join(rule.findall(trans))\n",
    "                res_ch = ''.join(rule.findall(j))\n",
    "                if res == '': temp3['Number'] += 1\n",
    "                elif res == '.': temp3['Float'] += 1\n",
    "                else: \n",
    "                    res_ch = 'String' if len(res_ch) >= 8 else res_ch\n",
    "                    fixed_pattern[res_ch] += 1\n",
    "                if len(trans) == 1:\n",
    "                    for ent in nlp(res).ents:\n",
    "                        temp3[ent.label_] += 1\n",
    "            # print(temp3)\n",
    "            # print(fixed_pattern)\n",
    "            if j in clear_col:\n",
    "                column_val = j\n",
    "            elif not temp3:\n",
    "                column_val = fixed_pattern.most_common()[0][0]\n",
    "            elif not fixed_pattern:\n",
    "                column_val = temp3.most_common()[0][0]\n",
    "            elif temp3 and fixed_pattern:\n",
    "                temp3_max = temp3.most_common()[0]\n",
    "                fixed_max = fixed_pattern.most_common()[0]\n",
    "                if temp3_max[1] > fixed_max[1]:\n",
    "                    column_val = temp3_max[0]\n",
    "                else: \n",
    "                    column_val = fixed_max[0]\n",
    "            if num == 0: temp1.append((column, column_val))\n",
    "            else: temp2.append((column, column_val))\n",
    "    # print(temp1)\n",
    "    # print(temp2)\n",
    "mydict = defaultdict(list)\n",
    "for col1 in temp1:\n",
    "    for col2 in temp2:\n",
    "        if col1[1] == col2[1]:\n",
    "            if col1[1] == 'String':\n",
    "                trans1 = ts.google(col1[0])\n",
    "                trans2 = ts.google(col2[0])\n",
    "                if col1[0] in col2[0] or col2[0] in col1[0] or trans1 in trans2 or trans2 in trans1:\n",
    "                    mydict[col2[0]].append(col1[0])\n",
    "            else:\n",
    "                mydict[col2[0]].append(col1[0])\n",
    "        else:\n",
    "            check_ch = difflib.SequenceMatcher(None, col1[1], col2[1]).quick_ratio()\n",
    "            check_en = difflib.SequenceMatcher(None, ts.google(col1[1]), ts.google(col2[1])).quick_ratio()\n",
    "            check_ch_col = difflib.SequenceMatcher(None, col1[0], col2[0]).quick_ratio()\n",
    "            check_en_col = difflib.SequenceMatcher(None, ts.google(col1[0]), ts.google(col2[0])).quick_ratio()\n",
    "            if (check_ch >= 0.7 or check_en >= 0.7) and :\n",
    "                mydict[col2[0]].append(col1[0])\n",
    "print(temp1, temp2)\n",
    "print(mydict)\n",
    "                # 刪除此階段配對好的值\n",
    "                # test[i][0].remove(col1[0])\n",
    "                # test[i][1].remove(col2[0])\n",
    "    # for key, val in mydict.items():\n",
    "    #     if len(val) >= 2:\n",
    "    #         val = sorted(val, key = lambda x: x[1], reverse = True)\n",
    "    #     result[i].append('<'+val[0][0]+', '+key+'>')\n",
    "    #     # 刪除此階段配對好的值\n",
    "    #     test[i][0].remove(val[0][0])\n",
    "    #     test[i][1].remove(key)\n",
    "    # print('')"
   ]
  },
  {
   "cell_type": "code",
   "execution_count": null,
   "metadata": {},
   "outputs": [],
   "source": [
    "with open(file_path + str(num) + '/Table' + i + '.csv', encoding='utf-8-sig') as f:\n",
    "            rows = csv.reader(f)\n",
    "            for row in rows:\n",
    "                columns.append(row)\n",
    "                print(row)\n",
    "                break"
   ]
  },
  {
   "cell_type": "code",
   "execution_count": 60,
   "metadata": {},
   "outputs": [
    {
     "data": {
      "text/plain": [
       "{1: ['<管理費, 管理費>',\n",
       "  '<樓層, 樓層>',\n",
       "  '<格局, 格局>',\n",
       "  '<url, url>',\n",
       "  '<屋齡, 屋齡>',\n",
       "  '<類型, 類型>',\n",
       "  '<地址, 地址>',\n",
       "  '<建物名稱, 名稱>',\n",
       "  '<總價, 價格>'],\n",
       " 2: ['<電影(英), 電影(英)>', '<電影(中), 電影(中)>'],\n",
       " 3: ['<標題, title>', '<作者, author>', '<日期, date>'],\n",
       " 4: ['<Name, 產品名稱>', '<Price, 價錢>', '<In Stock, 庫存>'],\n",
       " 5: ['<新聞來源, 來源>', '<文章標題, 標題>', '<文章作者, 作者>', '<發布日期, 日期>'],\n",
       " 6: [],\n",
       " 7: ['<color, color>', '<text, text>', '<time, time>', '<sn, sn>'],\n",
       " 8: ['<标题, 标题>', '<文章链接, 链接>', '<时间, 发表时间>'],\n",
       " 9: [],\n",
       " 10: ['<title, title>',\n",
       "  '<link, deep_link>',\n",
       "  '<price, sell_price>',\n",
       "  '<rating_star, review_star>',\n",
       "  '<rating_count, review_count>'],\n",
       " 11: ['<price, price>',\n",
       "  '<name, name>',\n",
       "  '<url, url>',\n",
       "  '<img, img_url>',\n",
       "  '<information, info>'],\n",
       " 12: ['<品牌, 品牌>', '<價格, 價錢>', '<商品說明, 商品簡述>'],\n",
       " 13: ['<article_url, url>', '<article_time, time>'],\n",
       " 14: ['<author, author>',\n",
       "  '<article_id, article_id>',\n",
       "  '<summary, summary>',\n",
       "  '<article_title, article_title>'],\n",
       " 15: ['<content, content>',\n",
       "  '<date, date>',\n",
       "  '<article_title, article_title>',\n",
       "  '<url, url>']}"
      ]
     },
     "execution_count": 60,
     "metadata": {},
     "output_type": "execute_result"
    }
   ],
   "source": [
    "result"
   ]
  },
  {
   "cell_type": "code",
   "execution_count": null,
   "metadata": {},
   "outputs": [
    {
     "data": {
      "text/plain": [
       "{1: [['建坪', '單價', '主+陽', '邊間/暗房', '建物朝向', '警衛管理'],\n",
       "  ['每坪單價', '總坪數', '車位', '電梯', '座向']],\n",
       " 2: [['最快可訂票場次', '剩餘座位'], ['上映日期', '片長', '發行公司', '評分']],\n",
       " 3: [['subtopic'], ['board']],\n",
       " 4: [['Location', 'Category'], ['產地']],\n",
       " 5: [[], ['網址']],\n",
       " 6: [['col1', 'col2', 'col3', 'col4', 'col5'],\n",
       "  ['author', 'tag', 'link', 'media_thumbnail', 'title', 'published_time']],\n",
       " 7: [['userid', 'title'], ['num', 'mode', 'id']],\n",
       " 8: [['文章内容'], ['摘要', '作者']],\n",
       " 9: [['url', 'title', 'price'], ['col1', 'col2', 'col3', 'col4']],\n",
       " 10: [['introduction', 'booking_date', 'country', 'cat_key'],\n",
       "  ['location_title', 'review_join', 'start_time', 'what_we_love']],\n",
       " 11: [['id', 'description'], []],\n",
       " 12: [['商品名稱', '6個月評分'], ['商品', '評分']],\n",
       " 13: [['article_name', 'article_contet'], ['title', 'content', 'author']],\n",
       " 14: [['url', 'view_number', 'score'], ['hot', 'like']],\n",
       " 15: [[], ['article_id', 'author']]}"
      ]
     },
     "execution_count": 174,
     "metadata": {},
     "output_type": "execute_result"
    }
   ],
   "source": [
    "test"
   ]
  },
  {
   "cell_type": "code",
   "execution_count": null,
   "metadata": {},
   "outputs": [
    {
     "name": "stdout",
     "output_type": "stream",
     "text": [
      "pari_1 9 12 75.00\n",
      "pari_2 2 3 66.67\n",
      "pari_3 3 4 75.00\n",
      "pari_4 3 4 75.00\n",
      "pari_5 4 4 100.00\n",
      "pari_6 0 5 0.00\n",
      "pari_7 4 5 80.00\n",
      "pari_8 3 4 75.00\n",
      "pari_9 0 3 0.00\n",
      "pari_10 5 8 62.50\n",
      "pari_11 4 5 80.00\n",
      "pari_12 3 5 60.00\n",
      "pari_13 2 4 50.00\n",
      "pari_14 4 5 80.00\n",
      "pari_15 4 4 100.00\n"
     ]
    },
    {
     "data": {
      "text/plain": [
       "{1: ['<樓層, 樓層>',\n",
       "  '<格局, 格局>',\n",
       "  '<地址, 地址>',\n",
       "  '<url, url>',\n",
       "  '<類型, 類型>',\n",
       "  '<屋齡, 屋齡>',\n",
       "  '<管理費, 管理費>',\n",
       "  '<建物名稱, 名稱>',\n",
       "  '<總價, 價格>'],\n",
       " 2: ['<電影(英), 電影(英)>', '<電影(中), 電影(中)>'],\n",
       " 3: ['<標題, title>', '<作者, author>', '<日期, date>'],\n",
       " 4: ['<Name, 產品名稱>', '<Price, 價錢>', '<In Stock, 庫存>'],\n",
       " 5: ['<新聞來源, 來源>', '<文章標題, 標題>', '<文章作者, 作者>', '<發布日期, 日期>'],\n",
       " 6: [],\n",
       " 7: ['<time, time>', '<sn, sn>', '<text, text>', '<color, color>'],\n",
       " 8: ['<标题, 标题>', '<文章链接, 链接>', '<时间, 发表时间>'],\n",
       " 9: [],\n",
       " 10: ['<title, title>',\n",
       "  '<link, deep_link>',\n",
       "  '<price, sell_price>',\n",
       "  '<rating_star, review_star>',\n",
       "  '<rating_count, review_count>'],\n",
       " 11: ['<name, name>',\n",
       "  '<price, price>',\n",
       "  '<url, url>',\n",
       "  '<img, img_url>',\n",
       "  '<information, info>'],\n",
       " 12: ['<品牌, 品牌>', '<價格, 價錢>', '<商品說明, 商品簡述>'],\n",
       " 13: ['<article_url, url>', '<article_time, time>'],\n",
       " 14: ['<author, author>',\n",
       "  '<article_id, article_id>',\n",
       "  '<article_title, article_title>',\n",
       "  '<summary, summary>'],\n",
       " 15: ['<content, content>',\n",
       "  '<date, date>',\n",
       "  '<article_title, article_title>',\n",
       "  '<url, url>']}"
      ]
     },
     "execution_count": 175,
     "metadata": {},
     "output_type": "execute_result"
    }
   ],
   "source": [
    "for i in range(1,16):\n",
    "    count = 0\n",
    "    for elm in ans[i]:\n",
    "        if elm in result[i]:\n",
    "            count += 1\n",
    "    print(\"pari_\"+str(i), count, len(ans[i]), \"{:.2f}\".format(count/len(ans[i])*100))\n",
    "result"
   ]
  },
  {
   "cell_type": "code",
   "execution_count": null,
   "metadata": {},
   "outputs": [
    {
     "name": "stderr",
     "output_type": "stream",
     "text": [
      "C:\\Users\\Kazuyahoo\\.virtualenvs\\schema_matching-wm38TBuc\\lib\\site-packages\\tqdm\\auto.py:22: TqdmWarning: IProgress not found. Please update jupyter and ipywidgets. See https://ipywidgets.readthedocs.io/en/stable/user_install.html\n",
      "  from .autonotebook import tqdm as notebook_tqdm\n",
      "Using Taiwan server backend.\n"
     ]
    },
    {
     "name": "stdout",
     "output_type": "stream",
     "text": [
      "0.3610218367428177\n",
      "0.9105247915301741\n",
      "0.09488896968232576\n",
      "0.5813841866397989\n",
      "0.4075238959925202\n"
     ]
    }
   ],
   "source": [
    "import spacy\n",
    "import translators as ts\n",
    "# from scipy.spatial.distance import cosine\n",
    "# from numpy import dot\n",
    "# from numpy.linalg import norm\n",
    "# from sklearn.metrics.pairwise import cosine_similarity,cosine_distances\n",
    "\n",
    "#nlp = spacy.load(\"en_core_web_sm\")\n",
    "nlp = spacy.load(\"en_core_web_lg\")\n",
    "nlp_ch = spacy.load(\"zh_core_web_lg\")\n",
    "info = nlp(\"info\").vector\n",
    "information = nlp(\"information\").vector\n",
    "art_time = nlp(\"article_time\").vector\n",
    "time = nlp(\"time\").vector\n",
    "hot = nlp(\"accounting\")\n",
    "like = nlp(\"2022/03/27 01:31\")\n",
    "love = nlp(\"2022-03-25T11:03:37+00:00\")\n",
    "print(like.similarity(love))\n",
    "like = nlp(ts.google(\"70.95 萬/坪\"))\n",
    "love = nlp(ts.google(\"約44.5 萬/坪\"))\n",
    "x = nlp(ts.google(\"房廳衛\"))\n",
    "y = nlp(ts.google(\"房/廳/衛\"))\n",
    "z = nlp(ts.google(\"1,090 萬\"))\n",
    "print(like.similarity(love))\n",
    "print(like.similarity(x))\n",
    "print(like.similarity(y))\n",
    "print(x.similarity(y))\n",
    "# result = dot(like, love)/(norm(like)*norm(love))\n",
    "# print(result)\n",
    "#print(cosine_similarity(like.reshape(1,-1),hot.reshape(1,-1)))\n",
    "# dist = cosine(info, information)\n",
    "# print(1- cosine(info, information))\n",
    "# print(1- cosine(love, like))\n",
    "# print(1 - cosine(like, hot))\n",
    "# print(1 - cosine(art_time, time))"
   ]
  },
  {
   "cell_type": "code",
   "execution_count": null,
   "metadata": {},
   "outputs": [
    {
     "name": "stdout",
     "output_type": "stream",
     "text": [
      "['建坪', '單價', '主+陽', '邊間/暗房', '建物朝向', '警衛管理']\n",
      "['每坪單價', '總坪數', '車位', '電梯', '座向']\n",
      "\n",
      "['最快可訂票場次', '剩餘座位']\n",
      "['上映日期', '片長', '發行公司', '評分']\n",
      "\n",
      "[]\n",
      "[]\n",
      "\n",
      "[]\n",
      "['產地']\n",
      "\n",
      "[]\n",
      "['網址']\n",
      "\n",
      "[]\n",
      "[]\n",
      "\n",
      "[]\n",
      "[]\n",
      "\n",
      "['文章内容']\n",
      "['摘要', '作者']\n",
      "\n",
      "[]\n",
      "[]\n",
      "\n",
      "[]\n",
      "[]\n",
      "\n",
      "[]\n",
      "[]\n",
      "\n",
      "['商品名稱', '6個月評分']\n",
      "['商品', '評分']\n",
      "\n",
      "[]\n",
      "[]\n",
      "\n",
      "[]\n",
      "[]\n",
      "\n",
      "[]\n",
      "[]\n",
      "\n"
     ]
    }
   ],
   "source": [
    "import re\n",
    "rule = re.compile(r'^[%\\s_a-zA-Z0-9]*$')\n",
    "for tab1, tab2 in test.values():\n",
    "    x = [elm for elm in tab1 if not rule.match(elm)]\n",
    "    y = [elm for elm in tab2 if not rule.match(elm)]\n",
    "    print(x)\n",
    "    print(y)\n",
    "    print('')"
   ]
  },
  {
   "cell_type": "code",
   "execution_count": null,
   "metadata": {},
   "outputs": [
    {
     "data": {
      "text/plain": [
       "223000"
      ]
     },
     "execution_count": 186,
     "metadata": {},
     "output_type": "execute_result"
    }
   ],
   "source": [
    "import datetime\n",
    "import pandas as pd\n",
    "isinstance(\"2022/03/27 00:16\", datetime.date)\n",
    "pd.to_datetime(\"2022/03/27 00:16\")\n",
    "pd.to_datetime(\"2022-03-25T13:05:15+00:00\")\n",
    "pd.to_numeric('223000')"
   ]
  },
  {
   "cell_type": "code",
   "execution_count": 112,
   "metadata": {},
   "outputs": [
    {
     "name": "stdout",
     "output_type": "stream",
     "text": [
      "Abstract: Get a beauty whitening cosmetic, containing the original sputum as an active ingredient, significantly improve the whitening effect of the skin, which has excellent safety to the skin. Composition: A beauty and whitening cosmetic, by mixing the original anthocyano oligomer containing the original sputum, preferably the original sputin of the dimer is mixed with the original sputin of the decanium, and the decimal compound contains the following compound (R is H or OH; R) 'Is H, no meal sour and alkyl glycolide), the amount of 0.01-10% by weight is combined as a constituent unit, preferably from 0.1 to 5 wt.% Based on the weight of the cosmetic component, the pigment cells have powerful whitening Role, high security. Further, the active ingredient is obtained by extracting from the plant, such as a round husk, a cranberry or barley, and a method further from a dihydroxin and a catechin or a parashotin.\n"
     ]
    },
    {
     "data": {
      "text/plain": [
       "151"
      ]
     },
     "execution_count": 112,
     "metadata": {},
     "output_type": "execute_result"
    }
   ],
   "source": [
    "import spacy\n",
    "from spacy import displacy\n",
    "from collections import Counter\n",
    "import translators as ts\n",
    "import re\n",
    "\n",
    "# nlp = spacy.load(\"en_core_web_lg\")\n",
    "# doc = nlp(ts.google('2億, 4.99亿'))\n",
    "rule = re.compile(r'[^\\s\\d]*')\n",
    "res = ''.join(rule.findall(ts.google('\"4,447,306\", 62.8億, 4.99亿, 3房/ 2廳/ 2衛, 2房2廳1衛, 約30.6坪, 23.68坪')))\n",
    "# print(res)\n",
    "# print([(X.text, X.label_) for X in doc.ents])\n",
    "x = nlp(ts.google('市長被俄軍擄走！烏國市民無懼開火驅離 逼到退兵放人')).ents\n",
    "# print([(X.text, X.label_) for X in x])\n",
    "print(ts.google(\"摘要:获得一种美容美白化妆品，含有原花青素作为活性成分，显著改善对皮肤的美白效果，对皮肤具有极好的安全性。构成：一种美容和美白化妆品，通过将含有原花青素的原花青素低聚物，优选二聚体的原花青素与十聚体的原花青素混合而成，十聚体中含有以下化合物（R为H或OH；R'为H、没食子酸甘油酯或吡喃甘酯），以0.01-10wt%的量作为活性成分结合为组成单元，优选0.1-5wt.%基于上述化妆品成分的重量，对色素细胞具有强大的美白作用，安全性高。此外，上述活性成分是通过从植物体中提取获得的，例如圆果壳、蔓越莓或大麦，以及进一步从二氢槲皮素和儿茶素或表儿茶素中合成的方法。\"))\n",
    "test = ts.google(\"摘要:获得一种美容美白化妆品，含有原花青素作为活性成分，显著改善对皮肤的美白效果，对皮肤具有极好的安全性。构成：一种美容和美白化妆品，通过将含有原花青素的原花青素低聚物，优选二聚体的原花青素与十聚体的原花青素混合而成，十聚体中含有以下化合物（R为H或OH；R'为H、没食子酸甘油酯或吡喃甘酯），以0.01-10wt%的量作为活性成分结合为组成单元，优选0.1-5wt.%基于上述化妆品成分的重量，对色素细胞具有强大的美白作用，安全性高。此外，上述活性成分是通过从植物体中提取获得的，例如圆果壳、蔓越莓或大麦，以及进一步从二氢槲皮素和儿茶素或表儿茶素中合成的方法。\")\n",
    "len(test.split(' '))"
   ]
  },
  {
   "cell_type": "code",
   "execution_count": 126,
   "metadata": {},
   "outputs": [
    {
     "name": "stdout",
     "output_type": "stream",
     "text": [
      "0.8\n",
      "0.0\n",
      "0.6666666666666666\n"
     ]
    }
   ],
   "source": [
    "import difflib\n",
    "print(difflib.SequenceMatcher(None, '約.坪', '.坪').quick_ratio())\n",
    "print(difflib.SequenceMatcher(None, '主+陽', '每坪單價').quick_ratio())\n",
    "print(difflib.SequenceMatcher(None, './', '/').quick_ratio())"
   ]
  },
  {
   "cell_type": "markdown",
   "metadata": {},
   "source": []
  }
 ],
 "metadata": {
  "interpreter": {
   "hash": "cb56554e22e7015c8034fdf988622508a740e712e9b2a73e8d246c741229446d"
  },
  "kernelspec": {
   "display_name": "Python 3.9.6 64-bit",
   "language": "python",
   "name": "python3"
  },
  "language_info": {
   "codemirror_mode": {
    "name": "ipython",
    "version": 3
   },
   "file_extension": ".py",
   "mimetype": "text/x-python",
   "name": "python",
   "nbconvert_exporter": "python",
   "pygments_lexer": "ipython3",
   "version": "3.9.11"
  },
  "orig_nbformat": 4
 },
 "nbformat": 4,
 "nbformat_minor": 2
}
