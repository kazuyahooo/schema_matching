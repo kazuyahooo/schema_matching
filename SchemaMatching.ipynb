{
 "cells": [
  {
   "cell_type": "code",
   "execution_count": 144,
   "metadata": {},
   "outputs": [
    {
     "name": "stdout",
     "output_type": "stream",
     "text": [
      "['建物名稱', '地址', '總價', '格局', '建坪', '單價', '主+陽', '屋齡', '類型', '樓層', '邊間/暗房', '建物朝向', '警衛管理', '管理費', 'url']\n",
      "['名稱', '價格', '每坪單價', '總坪數', '屋齡', '車位', '格局', '類型', '電梯', '管理費', '地址', '樓層', '座向', 'url']\n",
      "['樓層', '格局', '地址', 'url', '類型', '屋齡', '管理費']\n",
      "\n",
      "['電影(中)', '電影(英)', '最快可訂票場次', '剩餘座位']\n",
      "['電影(中)', '電影(英)', '上映日期', '片長', '發行公司', '評分']\n",
      "['電影(英)', '電影(中)']\n",
      "\n",
      "['subtopic', '標題', '作者', '日期']\n",
      "['title', 'author', 'board', 'date']\n",
      "[]\n",
      "\n",
      "['Name', 'Location', 'Price', 'Category', 'In Stock']\n",
      "['產品名稱', '產地', '價錢', '庫存']\n",
      "[]\n",
      "\n",
      "['新聞來源', '文章標題', '文章作者', '發布日期']\n",
      "['來源', '標題', '作者', '日期', '網址']\n",
      "[]\n",
      "\n",
      "['col1', 'col2', 'col3', 'col4', 'col5']\n",
      "['author', 'tag', 'link', 'media_thumbnail', 'title', 'published_time']\n",
      "[]\n",
      "\n",
      "['color', 'sn', 'text', 'time', 'userid', 'title', '', '', '', '', '', '', '', '', '', '', '', '', '', '', '', '', '', '', '', '', '', '', '', '', '', '', '', '', '', '', '', '', '', '', '', '', '', '', '', '', '', '', '', '', '', '', '']\n",
      "['num', 'time', 'mode', 'color', 'id', 'sn', 'text']\n",
      "['time', 'sn', 'text', 'color']\n",
      "\n",
      "['标题', '文章内容', '文章链接', '时间']\n",
      "['标题', '摘要', '作者', '链接', '发表时间', '', '', '']\n",
      "['标题']\n",
      "\n",
      "['url', 'title', 'price']\n",
      "['col1', 'col2', 'col3', 'col4']\n",
      "[]\n",
      "\n",
      "['title', 'introduction', 'link', 'price', 'booking_date', 'rating_star', 'rating_count', 'country', 'cat_key', '', '']\n",
      "['title', 'location_title', 'deep_link', 'review_count', 'review_join', 'review_star', 'sell_price', 'start_time', 'what_we_love']\n",
      "['title']\n",
      "\n",
      "['id', 'url', 'img', 'name', 'description', 'information', 'price']\n",
      "['url', 'img_url', 'name', 'info', 'price']\n",
      "['name', 'price', 'url']\n",
      "\n",
      "['品牌', '商品名稱', '6個月評分', '價格', '商品說明']\n",
      "['商品', '品牌', '商品簡述', '評分', '價錢']\n",
      "['品牌']\n",
      "\n",
      "['article_name', 'article_url', 'article_time', 'article_contet']\n",
      "['title', 'url', 'content', 'author', 'time']\n",
      "[]\n",
      "\n",
      "['url', 'article_title', 'article_id', 'author', 'view_number', 'score', 'summary']\n",
      "['article_id', 'article_title', 'author', 'hot', 'like', 'summary']\n",
      "['author', 'article_id', 'article_title', 'summary']\n",
      "\n",
      "['url', 'article_title', 'date', 'content']\n",
      "['url', 'article_id', 'article_title', 'author', 'date', 'content']\n",
      "['content', 'date', 'article_title', 'url']\n",
      "\n"
     ]
    }
   ],
   "source": [
    "import os,csv\n",
    "file_path = './Training Data/pair_'\n",
    "test = dict()\n",
    "result =  dict()\n",
    "for num in range(1, 16):\n",
    "    columns = list() # 抓取兩個table的column\n",
    "    test[num] = list()\n",
    "    result[num] = list()\n",
    "    for i in ['1','2']:\n",
    "        with open(file_path + str(num) + '/Table' + i + '.csv', encoding='utf-8-sig') as f:\n",
    "            rows = csv.reader(f)\n",
    "            for row in rows:\n",
    "                columns.append(row)\n",
    "                print(row)\n",
    "                break\n",
    "    same = list(set(columns[0]).intersection(columns[1]))\n",
    "    result[num].extend(['<'+word+', '+word+'>' for word in same])\n",
    "    print(same)\n",
    "    print('')\n",
    "    test[num].append([elm for elm in columns[0] if elm not in same + ['']])\n",
    "    test[num].append([elm for elm in columns[1] if elm not in same + ['']])"
   ]
  },
  {
   "cell_type": "code",
   "execution_count": 145,
   "metadata": {},
   "outputs": [
    {
     "data": {
      "text/plain": [
       "{1: [['建物名稱', '總價', '建坪', '單價', '主+陽', '邊間/暗房', '建物朝向', '警衛管理'],\n",
       "  ['名稱', '價格', '每坪單價', '總坪數', '車位', '電梯', '座向']],\n",
       " 2: [['最快可訂票場次', '剩餘座位'], ['上映日期', '片長', '發行公司', '評分']],\n",
       " 3: [['subtopic', '標題', '作者', '日期'], ['title', 'author', 'board', 'date']],\n",
       " 4: [['Name', 'Location', 'Price', 'Category', 'In Stock'],\n",
       "  ['產品名稱', '產地', '價錢', '庫存']],\n",
       " 5: [['新聞來源', '文章標題', '文章作者', '發布日期'], ['來源', '標題', '作者', '日期', '網址']],\n",
       " 6: [['col1', 'col2', 'col3', 'col4', 'col5'],\n",
       "  ['author', 'tag', 'link', 'media_thumbnail', 'title', 'published_time']],\n",
       " 7: [['userid', 'title'], ['num', 'mode', 'id']],\n",
       " 8: [['文章内容', '文章链接', '时间'], ['摘要', '作者', '链接', '发表时间']],\n",
       " 9: [['url', 'title', 'price'], ['col1', 'col2', 'col3', 'col4']],\n",
       " 10: [['introduction',\n",
       "   'link',\n",
       "   'price',\n",
       "   'booking_date',\n",
       "   'rating_star',\n",
       "   'rating_count',\n",
       "   'country',\n",
       "   'cat_key'],\n",
       "  ['location_title',\n",
       "   'deep_link',\n",
       "   'review_count',\n",
       "   'review_join',\n",
       "   'review_star',\n",
       "   'sell_price',\n",
       "   'start_time',\n",
       "   'what_we_love']],\n",
       " 11: [['id', 'img', 'description', 'information'], ['img_url', 'info']],\n",
       " 12: [['商品名稱', '6個月評分', '價格', '商品說明'], ['商品', '商品簡述', '評分', '價錢']],\n",
       " 13: [['article_name', 'article_url', 'article_time', 'article_contet'],\n",
       "  ['title', 'url', 'content', 'author', 'time']],\n",
       " 14: [['url', 'view_number', 'score'], ['hot', 'like']],\n",
       " 15: [[], ['article_id', 'author']]}"
      ]
     },
     "execution_count": 145,
     "metadata": {},
     "output_type": "execute_result"
    }
   ],
   "source": [
    "test"
   ]
  },
  {
   "cell_type": "code",
   "execution_count": 146,
   "metadata": {},
   "outputs": [
    {
     "data": {
      "text/plain": [
       "{1: ['<樓層, 樓層>',\n",
       "  '<格局, 格局>',\n",
       "  '<地址, 地址>',\n",
       "  '<url, url>',\n",
       "  '<類型, 類型>',\n",
       "  '<屋齡, 屋齡>',\n",
       "  '<管理費, 管理費>'],\n",
       " 2: ['<電影(英), 電影(英)>', '<電影(中), 電影(中)>'],\n",
       " 3: [],\n",
       " 4: [],\n",
       " 5: [],\n",
       " 6: [],\n",
       " 7: ['<time, time>', '<sn, sn>', '<text, text>', '<color, color>'],\n",
       " 8: ['<标题, 标题>'],\n",
       " 9: [],\n",
       " 10: ['<title, title>'],\n",
       " 11: ['<name, name>', '<price, price>', '<url, url>'],\n",
       " 12: ['<品牌, 品牌>'],\n",
       " 13: [],\n",
       " 14: ['<author, author>',\n",
       "  '<article_id, article_id>',\n",
       "  '<article_title, article_title>',\n",
       "  '<summary, summary>'],\n",
       " 15: ['<content, content>',\n",
       "  '<date, date>',\n",
       "  '<article_title, article_title>',\n",
       "  '<url, url>']}"
      ]
     },
     "execution_count": 146,
     "metadata": {},
     "output_type": "execute_result"
    }
   ],
   "source": [
    "result"
   ]
  },
  {
   "cell_type": "code",
   "execution_count": 147,
   "metadata": {},
   "outputs": [
    {
     "name": "stdout",
     "output_type": "stream",
     "text": [
      "defaultdict(<class 'list'>, {1: ['<建物名稱, 名稱>', '<地址, 地址>', '<總價, 價格>', '<單價, 每坪單價>', '<格局, 格局>', '<建坪, 總坪數>', '<屋齡, 屋齡>', '<類型, 類型>', '<樓層, 樓層>', '<建物朝向, 座向>', '<管理費, 管理費>', '<url, url>'], 2: ['<電影(中), 電影(中)>', '<電影(英), 電影(英)>', '<最快可訂票場次, 上映日期>'], 3: ['<subtopic, board>', '<標題, title>', '<作者, author>', '<日期, date>'], 4: ['<Name, 產品名稱>', '<Location, 產地>', '<Price, 價錢>', '<In Stock, 庫存>'], 5: ['<新聞來源, 來源>', '<文章標題, 標題>', '<文章作者, 作者>', '<發布日期, 日期>'], 6: ['<col1, tag>', '<col2, link>', '<col3, media_thumbnail>', '<col4, title>', '<col5, publish_time>'], 7: ['<color, color>', '<text, text>', '<sn, sn>', '<time, time>', '<userid, id>'], 8: ['<标题, 标题>', '<文章内容, 摘要>', '<文章链接, 链接>', '<时间, 发表时间>'], 9: ['<url, col1>', '<title, col2>', '>price, col4>'], 10: ['<title, title>', '<introduction, what_we_love>', '<link, deep_link>', '<price, sell_price>', '<booking_date, start_time>', '<rating_star, review_star>', '<rating_count, review_count>', '<country, location_title>'], 11: ['<url, url>', '<img_url, img>', '<name, name>', '<information, info>', '<price, price>'], 12: ['<品牌, 品牌>', '<商品名稱, 商品>', '<6個月評分, 評分>', '<價格, 價錢>', '<商品說明, 商品簡述>'], 13: ['<article_name, title>', '<article_url, url>', '<article_contet, content>', '<article_time, time>'], 14: ['<article_title, article_title>', '<article_id, article_id>', '<author, author>', '<view_number, hot>', '<summary, summary>'], 15: ['<url, url>', '<article_title, article_title>', '<date, date>', '<content, content>']})\n"
     ]
    }
   ],
   "source": [
    "import csv\n",
    "from collections import defaultdict\n",
    "ans = defaultdict(list)\n",
    "for i in range(1,16):\n",
    "    with open(file_path + str(i) + '/mapping.txt', encoding='utf-8-sig') as f:\n",
    "        for row in f:\n",
    "            ans[i].append(row.strip('\\n'))\n",
    "print(ans)"
   ]
  },
  {
   "cell_type": "code",
   "execution_count": 148,
   "metadata": {},
   "outputs": [
    {
     "name": "stdout",
     "output_type": "stream",
     "text": [
      "About 445 million / ping\n"
     ]
    }
   ],
   "source": [
    "import translators as ts\n",
    "\n",
    "wyw_text = '約44.5 萬/坪'\n",
    "\n",
    "# input languages\n",
    "print(ts.google(wyw_text)) # default: from_language='auto', to_language='en'\n",
    "\n",
    "## output language_map\n",
    "# print(ts._google.language_map)\n"
   ]
  },
  {
   "cell_type": "code",
   "execution_count": 149,
   "metadata": {},
   "outputs": [
    {
     "name": "stdout",
     "output_type": "stream",
     "text": [
      "[0.8156244435429086, '建物名稱', '名稱']\n",
      "[0.8211662520147652, '總價', '價格']\n",
      "[0.8185033702358471, '單價', '價格']\n"
     ]
    },
    {
     "name": "stderr",
     "output_type": "stream",
     "text": [
      "C:\\Users\\Kazuyahoo\\AppData\\Local\\Temp\\ipykernel_26908\\2043816343.py:29: UserWarning: [W008] Evaluating Doc.similarity based on empty vectors.\n",
      "  if elm1.similarity(elm2) > max_cosine:\n",
      "C:\\Users\\Kazuyahoo\\AppData\\Local\\Temp\\ipykernel_26908\\2043816343.py:30: UserWarning: [W008] Evaluating Doc.similarity based on empty vectors.\n",
      "  max_cosine = elm1.similarity(elm2)\n",
      "C:\\Users\\Kazuyahoo\\AppData\\Local\\Temp\\ipykernel_26908\\2043816343.py:32: UserWarning: [W008] Evaluating Doc.similarity based on empty vectors.\n",
      "  temp2.append(elm1.similarity(elm2))\n"
     ]
    },
    {
     "name": "stdout",
     "output_type": "stream",
     "text": [
      "\n",
      "\n",
      "[1.0, '標題', 'title']\n",
      "[1.0, '作者', 'author']\n",
      "[1.0, '日期', 'date']\n",
      "\n",
      "[0.8027764285337987, 'Name', '產品名稱']\n",
      "[1.0, 'Price', '價錢']\n",
      "[0.9999999907243265, 'In Stock', '庫存']\n",
      "\n",
      "[0.8321394108085185, '新聞來源', '來源']\n",
      "[0.8454818607666407, '文章標題', '標題']\n",
      "[0.894890631975146, '文章作者', '作者']\n",
      "[0.8473492634669297, '發布日期', '日期']\n",
      "\n"
     ]
    },
    {
     "name": "stderr",
     "output_type": "stream",
     "text": [
      "C:\\Users\\Kazuyahoo\\AppData\\Local\\Temp\\ipykernel_26908\\2043816343.py:29: UserWarning: [W008] Evaluating Doc.similarity based on empty vectors.\n",
      "  if elm1.similarity(elm2) > max_cosine:\n",
      "C:\\Users\\Kazuyahoo\\AppData\\Local\\Temp\\ipykernel_26908\\2043816343.py:30: UserWarning: [W008] Evaluating Doc.similarity based on empty vectors.\n",
      "  max_cosine = elm1.similarity(elm2)\n",
      "C:\\Users\\Kazuyahoo\\AppData\\Local\\Temp\\ipykernel_26908\\2043816343.py:32: UserWarning: [W008] Evaluating Doc.similarity based on empty vectors.\n",
      "  temp2.append(elm1.similarity(elm2))\n"
     ]
    },
    {
     "name": "stdout",
     "output_type": "stream",
     "text": [
      "\n",
      "\n",
      "[0.8725500306531471, '文章链接', '链接']\n",
      "[0.7444886350125187, '时间', '发表时间']\n",
      "\n"
     ]
    },
    {
     "name": "stderr",
     "output_type": "stream",
     "text": [
      "C:\\Users\\Kazuyahoo\\AppData\\Local\\Temp\\ipykernel_26908\\2043816343.py:29: UserWarning: [W008] Evaluating Doc.similarity based on empty vectors.\n",
      "  if elm1.similarity(elm2) > max_cosine:\n",
      "C:\\Users\\Kazuyahoo\\AppData\\Local\\Temp\\ipykernel_26908\\2043816343.py:32: UserWarning: [W008] Evaluating Doc.similarity based on empty vectors.\n",
      "  temp2.append(elm1.similarity(elm2))\n"
     ]
    },
    {
     "name": "stdout",
     "output_type": "stream",
     "text": [
      "\n",
      "[0.7180345943910086, 'link', 'deep_link']\n",
      "[0.901053490964388, 'price', 'sell_price']\n",
      "[0.7997573226545864, 'rating_star', 'review_star']\n",
      "[0.7566085368620075, 'rating_count', 'review_count']\n",
      "\n",
      "[0.8627569212984953, 'img', 'img_url']\n",
      "[0.7201064745570647, 'information', 'info']\n",
      "\n",
      "[0.9999999630095358, '價格', '價錢']\n",
      "[0.7695497712125731, '商品說明', '商品簡述']\n",
      "\n",
      "[0.827747962481347, 'article_url', 'url']\n",
      "[0.7737551205544415, 'article_time', 'time']\n",
      "\n",
      "\n",
      "\n"
     ]
    }
   ],
   "source": [
    "#將中文轉成英文比對embedding相似度 高於0.7的當作一樣\n",
    "import pandas as pd\n",
    "import translators as ts\n",
    "from collections import defaultdict\n",
    "\n",
    "tables = ['/Table1.csv', '/Table2.csv']\n",
    "nlp = spacy.load(\"en_core_web_lg\")\n",
    "nlp_ch = spacy.load(\"zh_core_web_lg\")\n",
    "\n",
    "for i in range(1,16):\n",
    "#for i in range(1,2):\n",
    "    table1 = pd.read_csv(file_path + str(i) + tables[0],low_memory=False)\n",
    "    table2 = pd.read_csv(file_path + str(i) + tables[1],low_memory=False)\n",
    "    table1 = table1[test[i][0]]\n",
    "    table2 = table2[test[i][1]]\n",
    "    trans_tab1 = [ts.google(j).replace('_',' ') for j in table1.columns]\n",
    "    trans_tab2 = [ts.google(j).replace('_',' ') for j in table2.columns]\n",
    "    # trans_tab1 = table1.columns\n",
    "    # trans_tab2 = table2.columns\n",
    "    mydict = defaultdict(list)\n",
    "    simatrix = [list(table2.columns)]\n",
    "    for idx1, elm1 in enumerate(trans_tab1):\n",
    "        elm1 = nlp(elm1)\n",
    "        max_cosine = -1\n",
    "        # temp = []\n",
    "        temp2 = []\n",
    "        for idx2, elm2 in enumerate(trans_tab2):\n",
    "            elm2 = nlp(elm2)\n",
    "            #print(elm1.similarity(elm2), test[2][0][idx1], test[2][1][idx2])\n",
    "            if elm1.similarity(elm2) > max_cosine:\n",
    "                max_cosine = elm1.similarity(elm2)\n",
    "                temp = [max_cosine, test[i][0][idx1], test[i][1][idx2]]\n",
    "            temp2.append(elm1.similarity(elm2))\n",
    "        simatrix.append(temp2)\n",
    "        if temp[0] >= 0.7:\n",
    "            mydict[temp[2]].append((temp[1], temp[0]))\n",
    "            print(temp)\n",
    "    #print(trans_tab1)\n",
    "    #print(trans_tab2)\n",
    "    #print(simatrix)\n",
    "    for key, val in mydict.items():\n",
    "        if len(val) >= 2:\n",
    "            val = sorted(val, key = lambda x: x[1], reverse = True)\n",
    "        result[i].append('<'+val[0][0]+', '+key+'>')\n",
    "        test[i][0].remove(val[0][0])\n",
    "        test[i][1].remove(key)\n",
    "    print('')\n",
    "    # table1.dropna(how = 'all', inplace = True) # 清除整條row為空值的測資\n",
    "    # table2.dropna(how = 'all', inplace = True) # 清除整條row為空值的測資\n",
    "    # if len(table1) != 0:\n",
    "    #     print(table1.describe())\n",
    "    # if len(table2) != 0:\n",
    "    #     print(table2.describe())"
   ]
  },
  {
   "cell_type": "code",
   "execution_count": 150,
   "metadata": {},
   "outputs": [
    {
     "data": {
      "text/plain": [
       "{1: ['<樓層, 樓層>',\n",
       "  '<格局, 格局>',\n",
       "  '<地址, 地址>',\n",
       "  '<url, url>',\n",
       "  '<類型, 類型>',\n",
       "  '<屋齡, 屋齡>',\n",
       "  '<管理費, 管理費>',\n",
       "  '<建物名稱, 名稱>',\n",
       "  '<總價, 價格>'],\n",
       " 2: ['<電影(英), 電影(英)>', '<電影(中), 電影(中)>'],\n",
       " 3: ['<標題, title>', '<作者, author>', '<日期, date>'],\n",
       " 4: ['<Name, 產品名稱>', '<Price, 價錢>', '<In Stock, 庫存>'],\n",
       " 5: ['<新聞來源, 來源>', '<文章標題, 標題>', '<文章作者, 作者>', '<發布日期, 日期>'],\n",
       " 6: [],\n",
       " 7: ['<time, time>', '<sn, sn>', '<text, text>', '<color, color>'],\n",
       " 8: ['<标题, 标题>', '<文章链接, 链接>', '<时间, 发表时间>'],\n",
       " 9: [],\n",
       " 10: ['<title, title>',\n",
       "  '<link, deep_link>',\n",
       "  '<price, sell_price>',\n",
       "  '<rating_star, review_star>',\n",
       "  '<rating_count, review_count>'],\n",
       " 11: ['<name, name>',\n",
       "  '<price, price>',\n",
       "  '<url, url>',\n",
       "  '<img, img_url>',\n",
       "  '<information, info>'],\n",
       " 12: ['<品牌, 品牌>', '<價格, 價錢>', '<商品說明, 商品簡述>'],\n",
       " 13: ['<article_url, url>', '<article_time, time>'],\n",
       " 14: ['<author, author>',\n",
       "  '<article_id, article_id>',\n",
       "  '<article_title, article_title>',\n",
       "  '<summary, summary>'],\n",
       " 15: ['<content, content>',\n",
       "  '<date, date>',\n",
       "  '<article_title, article_title>',\n",
       "  '<url, url>']}"
      ]
     },
     "execution_count": 150,
     "metadata": {},
     "output_type": "execute_result"
    }
   ],
   "source": [
    "result"
   ]
  },
  {
   "cell_type": "code",
   "execution_count": 152,
   "metadata": {},
   "outputs": [
    {
     "name": "stdout",
     "output_type": "stream",
     "text": [
      "         col1                                               col2  \\\n",
      "count      20                                                 20   \n",
      "unique      5                                                 20   \n",
      "top     world  https://news.ltn.com.tw/news/world/breakingnew...   \n",
      "freq        9                                                  1   \n",
      "\n",
      "                                                     col3  \\\n",
      "count                                                  19   \n",
      "unique                                                 19   \n",
      "top     https://img.ltn.com.tw/Upload/news/250/2022/03...   \n",
      "freq                                                    1   \n",
      "\n",
      "                             col4              col5  \n",
      "count                          20                20  \n",
      "unique                         20                19  \n",
      "top     市長被俄軍擄走！烏國市民無懼開火驅離 逼到退兵放人  2022/03/26 23:18  \n",
      "freq                            1                 2  \n",
      "           author                 tag  \\\n",
      "count          25                  25   \n",
      "unique         25                  25   \n",
      "top     /u/Kelmo7  BlackPeopleTwitter   \n",
      "freq            1                   1   \n",
      "\n",
      "                                                     link  \\\n",
      "count                                                  25   \n",
      "unique                                                 25   \n",
      "top     https://www.reddit.com/r/BlackPeopleTwitter/co...   \n",
      "freq                                                    1   \n",
      "\n",
      "                                          media_thumbnail  \\\n",
      "count                                                  22   \n",
      "unique                                                 22   \n",
      "top     https://preview.redd.it/xqcnu1sb8jp81.png?widt...   \n",
      "freq                                                    1   \n",
      "\n",
      "                                                   title  \\\n",
      "count                                                 25   \n",
      "unique                                                25   \n",
      "top     Normalize showing love and affection to children   \n",
      "freq                                                   1   \n",
      "\n",
      "                   published_time  \n",
      "count                          25  \n",
      "unique                         25  \n",
      "top     2022-03-25T13:32:27+00:00  \n",
      "freq                            1  \n",
      "\n"
     ]
    }
   ],
   "source": [
    "#將中文轉成英文比對embedding相似度 高於0.7的當作一樣\n",
    "import pandas as pd\n",
    "import translators as ts\n",
    "from collections import defaultdict\n",
    "\n",
    "tables = ['/Table1.csv', '/Table2.csv']\n",
    "nlp = spacy.load(\"en_core_web_lg\")\n",
    "nlp_ch = spacy.load(\"zh_core_web_lg\")\n",
    "\n",
    "#for i in range(1,16):\n",
    "for i in range(6,7):\n",
    "    table1 = pd.read_csv(file_path + str(i) + tables[0],low_memory=False)\n",
    "    table2 = pd.read_csv(file_path + str(i) + tables[1],low_memory=False)\n",
    "    table1 = table1[test[i][0]]\n",
    "    table2 = table2[test[i][1]]\n",
    "    # trans_tab1 = table1.columns\n",
    "    # trans_tab2 = table2.columns\n",
    "    table1.dropna(how = 'all', inplace = True) # 清除整條row為空值的測資\n",
    "    table2.dropna(how = 'all', inplace = True) # 清除整條row為空值的測資\n",
    "    if len(table1) != 0:\n",
    "        print(table1.describe())\n",
    "    if len(table2) != 0:\n",
    "        print(table2.describe())\n",
    "    # for key, val in mydict.items():\n",
    "    #     if len(val) >= 2:\n",
    "    #         val = sorted(val, key = lambda x: x[1], reverse = True)\n",
    "    #     result[i].append('<'+val[0][0]+', '+key+'>')\n",
    "    #     test[i][0].remove(val[0][0])\n",
    "    #     test[i][1].remove(key)\n",
    "    print('')\n",
    "    "
   ]
  },
  {
   "cell_type": "code",
   "execution_count": 151,
   "metadata": {},
   "outputs": [
    {
     "name": "stdout",
     "output_type": "stream",
     "text": [
      "pari_1 9 12 75.00\n",
      "pari_2 2 3 66.67\n",
      "pari_3 3 4 75.00\n",
      "pari_4 3 4 75.00\n",
      "pari_5 4 4 100.00\n",
      "pari_6 0 5 0.00\n",
      "pari_7 4 5 80.00\n",
      "pari_8 3 4 75.00\n",
      "pari_9 0 3 0.00\n",
      "pari_10 5 8 62.50\n",
      "pari_11 4 5 80.00\n",
      "pari_12 3 5 60.00\n",
      "pari_13 2 4 50.00\n",
      "pari_14 4 5 80.00\n",
      "pari_15 4 4 100.00\n"
     ]
    },
    {
     "data": {
      "text/plain": [
       "{1: ['<樓層, 樓層>',\n",
       "  '<格局, 格局>',\n",
       "  '<地址, 地址>',\n",
       "  '<url, url>',\n",
       "  '<類型, 類型>',\n",
       "  '<屋齡, 屋齡>',\n",
       "  '<管理費, 管理費>',\n",
       "  '<建物名稱, 名稱>',\n",
       "  '<總價, 價格>'],\n",
       " 2: ['<電影(英), 電影(英)>', '<電影(中), 電影(中)>'],\n",
       " 3: ['<標題, title>', '<作者, author>', '<日期, date>'],\n",
       " 4: ['<Name, 產品名稱>', '<Price, 價錢>', '<In Stock, 庫存>'],\n",
       " 5: ['<新聞來源, 來源>', '<文章標題, 標題>', '<文章作者, 作者>', '<發布日期, 日期>'],\n",
       " 6: [],\n",
       " 7: ['<time, time>', '<sn, sn>', '<text, text>', '<color, color>'],\n",
       " 8: ['<标题, 标题>', '<文章链接, 链接>', '<时间, 发表时间>'],\n",
       " 9: [],\n",
       " 10: ['<title, title>',\n",
       "  '<link, deep_link>',\n",
       "  '<price, sell_price>',\n",
       "  '<rating_star, review_star>',\n",
       "  '<rating_count, review_count>'],\n",
       " 11: ['<name, name>',\n",
       "  '<price, price>',\n",
       "  '<url, url>',\n",
       "  '<img, img_url>',\n",
       "  '<information, info>'],\n",
       " 12: ['<品牌, 品牌>', '<價格, 價錢>', '<商品說明, 商品簡述>'],\n",
       " 13: ['<article_url, url>', '<article_time, time>'],\n",
       " 14: ['<author, author>',\n",
       "  '<article_id, article_id>',\n",
       "  '<article_title, article_title>',\n",
       "  '<summary, summary>'],\n",
       " 15: ['<content, content>',\n",
       "  '<date, date>',\n",
       "  '<article_title, article_title>',\n",
       "  '<url, url>']}"
      ]
     },
     "execution_count": 151,
     "metadata": {},
     "output_type": "execute_result"
    }
   ],
   "source": [
    "for i in range(1,16):\n",
    "    count = 0\n",
    "    for elm in ans[i]:\n",
    "        if elm in result[i]:\n",
    "            count += 1\n",
    "    print(\"pari_\"+str(i), count, len(ans[i]), \"{:.2f}\".format(count/len(ans[i])*100))\n",
    "result"
   ]
  },
  {
   "cell_type": "code",
   "execution_count": 91,
   "metadata": {},
   "outputs": [
    {
     "name": "stderr",
     "output_type": "stream",
     "text": [
      "C:\\Users\\Kazuyahoo\\AppData\\Local\\Temp\\ipykernel_26908\\67196419.py:18: UserWarning: [W008] Evaluating Doc.similarity based on empty vectors.\n",
      "  print(like.similarity(love))\n"
     ]
    },
    {
     "name": "stdout",
     "output_type": "stream",
     "text": [
      "0.0\n",
      "0.9105247915301741\n",
      "0.3134557518113992\n",
      "0.49389539194508586\n",
      "0.912353685973828\n"
     ]
    }
   ],
   "source": [
    "import spacy\n",
    "import translators as ts\n",
    "# from scipy.spatial.distance import cosine\n",
    "# from numpy import dot\n",
    "# from numpy.linalg import norm\n",
    "# from sklearn.metrics.pairwise import cosine_similarity,cosine_distances\n",
    "\n",
    "#nlp = spacy.load(\"en_core_web_sm\")\n",
    "nlp = spacy.load(\"en_core_web_lg\")\n",
    "nlp_ch = spacy.load(\"zh_core_web_lg\")\n",
    "info = nlp(\"info\").vector\n",
    "information = nlp(\"information\").vector\n",
    "art_time = nlp(\"article_time\").vector\n",
    "time = nlp(\"time\").vector\n",
    "hot = nlp(\"accounting\")\n",
    "like = nlp(\"30K+\")\n",
    "love = nlp(\"45,000\")\n",
    "print(like.similarity(love))\n",
    "like = nlp(ts.google(\"70.95 萬/坪\"))\n",
    "love = nlp(ts.google(\"約44.5 萬/坪\"))\n",
    "x = nlp(ts.google(\"3房2廳2衛\"))\n",
    "y = nlp(ts.google(\"6房/ 3廳/ 3衛\"))\n",
    "z = nlp(ts.google(\"1,090 萬\"))\n",
    "print(like.similarity(love))\n",
    "print(like.similarity(x))\n",
    "print(like.similarity(y))\n",
    "print(x.similarity(y))\n",
    "# result = dot(like, love)/(norm(like)*norm(love))\n",
    "# print(result)\n",
    "#print(cosine_similarity(like.reshape(1,-1),hot.reshape(1,-1)))\n",
    "# dist = cosine(info, information)\n",
    "# print(1- cosine(info, information))\n",
    "# print(1- cosine(love, like))\n",
    "# print(1 - cosine(like, hot))\n",
    "# print(1 - cosine(art_time, time))"
   ]
  },
  {
   "cell_type": "code",
   "execution_count": 29,
   "metadata": {},
   "outputs": [
    {
     "name": "stdout",
     "output_type": "stream",
     "text": [
      "['建物名稱', '總價', '建坪', '單價', '主+陽', '邊間/暗房', '建物朝向', '警衛管理']\n",
      "['名稱', '價格', '每坪單價', '總坪數', '車位', '電梯', '座向']\n",
      "\n",
      "['最快可訂票場次', '剩餘座位']\n",
      "['上映日期', '片長', '發行公司', '評分']\n",
      "\n",
      "['標題', '作者', '日期']\n",
      "[]\n",
      "\n",
      "[]\n",
      "['產品名稱', '產地', '價錢', '庫存']\n",
      "\n",
      "['新聞來源', '文章標題', '文章作者', '發布日期']\n",
      "['來源', '標題', '作者', '日期', '網址']\n",
      "\n",
      "[]\n",
      "[]\n",
      "\n",
      "[]\n",
      "[]\n",
      "\n",
      "['文章内容', '文章链接', '时间']\n",
      "['摘要', '作者', '链接', '发表时间']\n",
      "\n",
      "[]\n",
      "[]\n",
      "\n",
      "[]\n",
      "[]\n",
      "\n",
      "[]\n",
      "[]\n",
      "\n",
      "['商品名稱', '6個月評分', '價格', '商品說明']\n",
      "['商品', '商品簡述', '評分', '價錢']\n",
      "\n",
      "[]\n",
      "[]\n",
      "\n",
      "[]\n",
      "[]\n",
      "\n",
      "[]\n",
      "[]\n",
      "\n"
     ]
    }
   ],
   "source": [
    "import re\n",
    "rule = re.compile(r'^[\\s_a-zA-Z0-9]*$')\n",
    "for tab1, tab2 in test.values():\n",
    "    x = [elm for elm in tab1 if not rule.match(elm)]\n",
    "    y = [elm for elm in tab2 if not rule.match(elm)]\n",
    "    print(x)\n",
    "    print(y)\n",
    "    print('')"
   ]
  },
  {
   "cell_type": "markdown",
   "metadata": {},
   "source": []
  }
 ],
 "metadata": {
  "interpreter": {
   "hash": "cb56554e22e7015c8034fdf988622508a740e712e9b2a73e8d246c741229446d"
  },
  "kernelspec": {
   "display_name": "Python 3.9.6 64-bit",
   "language": "python",
   "name": "python3"
  },
  "language_info": {
   "codemirror_mode": {
    "name": "ipython",
    "version": 3
   },
   "file_extension": ".py",
   "mimetype": "text/x-python",
   "name": "python",
   "nbconvert_exporter": "python",
   "pygments_lexer": "ipython3",
   "version": "3.9.11"
  },
  "orig_nbformat": 4
 },
 "nbformat": 4,
 "nbformat_minor": 2
}
